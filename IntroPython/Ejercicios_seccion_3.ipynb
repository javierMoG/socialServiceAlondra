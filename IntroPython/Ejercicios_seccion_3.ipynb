{
 "cells": [
  {
   "cell_type": "markdown",
   "metadata": {},
   "source": [
    "## 3. Built-In Data Structures, Functions, and Files\n",
    "\n",
    "Resuelve los siguientes ejercicios utilizando los conocimientos adquiridos en la sección tres del libro. El reto es utilizar la menor cantidad de código, recuerda que entre menos líneas de código utilices, tus programas son más eficientes y legibles."
   ]
  },
  {
   "cell_type": "markdown",
   "metadata": {},
   "source": [
    "1. Clasifica la siguiente lista de palabras con base en su longitud y guarda el resultado en un diccionario"
   ]
  },
  {
   "cell_type": "code",
   "execution_count": 2,
   "metadata": {},
   "outputs": [
    {
     "data": {
      "text/plain": [
       "{3: ['bat', 'bar'], 4: ['atom', 'book'], 5: ['apple']}"
      ]
     },
     "execution_count": 2,
     "metadata": {},
     "output_type": "execute_result"
    }
   ],
   "source": [
    "words = [\"apple\", \"bat\", \"bar\", \"atom\", \"book\"]\n",
    "by_length = {length: [word for word in words if len(word) == length] for length in set(map(len, words))}\n",
    "\n",
    "by_length\n"
   ]
  },
  {
   "cell_type": "markdown",
   "metadata": {},
   "source": [
    "2. De la siguiente lista genera una función que imprima el número de valores únicos"
   ]
  },
  {
   "cell_type": "code",
   "execution_count": 3,
   "metadata": {},
   "outputs": [
    {
     "name": "stdout",
     "output_type": "stream",
     "text": [
      "Los valores únicos son: [7, 5, 1, 2, 13]\n",
      "La cantidad de valores únicos es: 5\n"
     ]
    }
   ],
   "source": [
    "nums = [9, 9, 6, 8, 7, 6, 5, 4, 6, 8, 1, 2, 13, 4]\n",
    "\n",
    "def unique_values(nums):\n",
    "    values = [num for num in nums if nums.count(num) == 1]\n",
    "    print(f'Los valores únicos son: {values}\\nLa cantidad de valores únicos es: {len(values)}')\n",
    "\n",
    "unique_values(nums)\n",
    "\n"
   ]
  },
  {
   "cell_type": "markdown",
   "metadata": {},
   "source": [
    "3. Escribre una función que determine si una palabra es palíndromo"
   ]
  },
  {
   "cell_type": "code",
   "execution_count": 9,
   "metadata": {},
   "outputs": [
    {
     "name": "stdout",
     "output_type": "stream",
     "text": [
      "True\n",
      "False\n"
     ]
    }
   ],
   "source": [
    "def es_palindromo(word): return word.lower() == word[::-1]\n",
    "\n",
    "print(es_palindromo(\"ana\"))\n",
    "print(es_palindromo(\"hola\"))\n"
   ]
  },
  {
   "cell_type": "markdown",
   "metadata": {},
   "source": [
    "4. Del siguiente conjunto, determina que números son divisibles entre 4"
   ]
  },
  {
   "cell_type": "code",
   "execution_count": 10,
   "metadata": {},
   "outputs": [
    {
     "name": "stdout",
     "output_type": "stream",
     "text": [
      "Los números divisibles entre 4 son: [64, 4, 8, 12, 16, 80, 56]\n"
     ]
    }
   ],
   "source": [
    "s = {8, 9, 4, 16, 12, 13, 21, 64, 56, 80, 121}\n",
    "print(f'Los números divisibles entre 4 son: {[num for num in s if num % 4 == 0]}')\n",
    "\n"
   ]
  },
  {
   "cell_type": "markdown",
   "metadata": {},
   "source": [
    "5. Genera una lista que contenga los nombres que tenga la letra \"e\" a partir de la siguiente tupla de tuplas"
   ]
  },
  {
   "cell_type": "code",
   "execution_count": 5,
   "metadata": {},
   "outputs": [],
   "source": [
    "names = ((\"John\", \"Emily\", \"Michael\", \"Mary\", \"Steven\"), (\"Maria\", \"Juan\", \"Javier\", \"Natalia\", \"Pilar\"))\n"
   ]
  },
  {
   "cell_type": "code",
   "execution_count": 13,
   "metadata": {},
   "outputs": [
    {
     "data": {
      "text/plain": [
       "[['Michael', 'Steven'], ['Javier']]"
      ]
     },
     "execution_count": 13,
     "metadata": {},
     "output_type": "execute_result"
    }
   ],
   "source": [
    "names = ((\"John\", \"Emily\", \"Michael\", \"Mary\", \"Steven\"), (\"Maria\", \"Juan\", \"Javier\", \"Natalia\", \"Pilar\"))\n",
    "\n",
    "names_e = [[name for name in group if \"e\" in name] for group in names]\n",
    "\n",
    "names_e\n",
    "\n"
   ]
  },
  {
   "cell_type": "markdown",
   "metadata": {},
   "source": [
    "6. Escribe un función que reciba como entrada el radio de un círculo y regrese un diccionario con el valor de su diámetro y área"
   ]
  },
  {
   "cell_type": "code",
   "execution_count": 14,
   "metadata": {},
   "outputs": [
    {
     "name": "stdout",
     "output_type": "stream",
     "text": [
      "El diámetro del círculo es: 19.6\n",
      "El área del círculo es: 301.7185584507638\n"
     ]
    }
   ],
   "source": [
    "import math\n",
    "\n",
    "radio = float(input(\"Ingrese el radio del círculo: \"))\n",
    "\n",
    "resultado = {\n",
    "    \"diametro\": 2 * radio,\n",
    "    \"area\": math.pi * radio ** 2\n",
    "}\n",
    "\n",
    "print(f\"El diámetro del círculo es: {resultado['diametro']}\")\n",
    "print(f\"El área del círculo es: {resultado['area']}\")\n",
    "\n",
    "\n",
    "\n",
    "\n",
    "\n"
   ]
  },
  {
   "cell_type": "markdown",
   "metadata": {},
   "source": [
    "7. Genera una función que elimine e imprima el tercer elemento de una lista hasta que la lista esté vacia "
   ]
  },
  {
   "cell_type": "code",
   "execution_count": 15,
   "metadata": {},
   "outputs": [
    {
     "name": "stdout",
     "output_type": "stream",
     "text": [
      "El elemento eliminado es el siguiente: 5\n",
      "El elemento eliminado es el siguiente: 6\n",
      "El elemento eliminado es el siguiente: 9\n",
      "El elemento eliminado es el siguiente: 8\n",
      "El elemento eliminado es el siguiente: 10\n",
      "El elemento eliminado es el siguiente: 27\n",
      "El elemento eliminado es el siguiente: 30\n",
      "La lista resultante es: [2, 4]\n"
     ]
    }
   ],
   "source": [
    "def reducir_lista(lista):\n",
    "    while len(lista) >= 3:\n",
    "        print(f'El elemento eliminado es el siguiente: {lista.pop(2)}')\n",
    "\n",
    "lista = [2, 4, 5, 6, 9, 8, 10, 27, 30]\n",
    "reducir_lista(lista)\n",
    "print(\"La lista resultante es:\", lista)\n"
   ]
  },
  {
   "cell_type": "markdown",
   "metadata": {},
   "source": [
    "8. Escribe una función que devuelva los primeros 10 elementos de la serie de fibonacci e imprima el siguiente texto: \"Generando los primeros n elementos de la serie de Fibonacci\", n siendo el parámetro de la función"
   ]
  },
  {
   "cell_type": "code",
   "execution_count": 17,
   "metadata": {},
   "outputs": [
    {
     "name": "stdout",
     "output_type": "stream",
     "text": [
      "[0, 1, 1, 2, 3, 5, 8, 13, 21, 34]\n"
     ]
    }
   ],
   "source": [
    "def fibonacci(n):\n",
    "    fib = [0, 1]  \n",
    "\n",
    "    [fib.append(fib[-1] + fib[-2]) for _ in range(2, n)]\n",
    "    \n",
    "    return fib[:n]\n",
    "\n",
    "print(fibonacci(10))  \n"
   ]
  },
  {
   "cell_type": "markdown",
   "metadata": {},
   "source": [
    "9. Escribe un generador que obtenga la suma de los primeros 100 números naturales"
   ]
  },
  {
   "cell_type": "code",
   "execution_count": 20,
   "metadata": {},
   "outputs": [
    {
     "name": "stdout",
     "output_type": "stream",
     "text": [
      "La suma de los primeros 100 números naturales es: 5050\n"
     ]
    }
   ],
   "source": [
    "def sum_gen(n):\n",
    "    total = 0\n",
    "    for i in range(1, n + 1):\n",
    "        total += i\n",
    "        yield total\n",
    "\n",
    "print(f'La suma de los primeros 100 números naturales es: {list(sum_gen(100))[-1]}')\n",
    "\n",
    "\n",
    "\n",
    "\n",
    "\n",
    "    "
   ]
  },
  {
   "cell_type": "markdown",
   "metadata": {},
   "source": [
    "10. Usa el modulo *itertools* para contar todas la posibles manera de ordenar las vocales del abecedario"
   ]
  },
  {
   "cell_type": "code",
   "execution_count": 21,
   "metadata": {},
   "outputs": [
    {
     "name": "stdout",
     "output_type": "stream",
     "text": [
      "La cantidad de maneras de ordenar las vocales del abecedario es de : 120 maneras\n"
     ]
    }
   ],
   "source": [
    "import math\n",
    "\n",
    "vocales = \"aeiou\"\n",
    "num_permutaciones = math.factorial(len(vocales))\n",
    "\n",
    "print(f'La cantidad de maneras de ordenar las vocales del abecedario es de : {num_permutaciones} maneras')\n"
   ]
  }
 ],
 "metadata": {
  "kernelspec": {
   "display_name": "IntroPython",
   "language": "python",
   "name": "python3"
  },
  "language_info": {
   "codemirror_mode": {
    "name": "ipython",
    "version": 3
   },
   "file_extension": ".py",
   "mimetype": "text/x-python",
   "name": "python",
   "nbconvert_exporter": "python",
   "pygments_lexer": "ipython3",
   "version": "3.12.2"
  },
  "orig_nbformat": 4
 },
 "nbformat": 4,
 "nbformat_minor": 2
}
