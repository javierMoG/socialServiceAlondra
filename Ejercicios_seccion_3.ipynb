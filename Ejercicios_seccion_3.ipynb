{
 "cells": [
  {
   "cell_type": "markdown",
   "metadata": {},
   "source": [
    "## 3. Built-In Data Structures, Functions, and Files\n",
    "\n",
    "Resuelve los siguientes ejercicios utilizando los conocimientos adquiridos en la sección tres del libro. El reto es utilizar la menor cantidad de código, recuerda que entre menos líneas de código utilices, tus programas son más eficientes y legibles."
   ]
  },
  {
   "cell_type": "markdown",
   "metadata": {},
   "source": [
    "1. Clasifica la siguiente lista de palabras con base en su longitud y guarda el resultado en un diccionario"
   ]
  },
  {
   "cell_type": "code",
   "execution_count": 1,
   "metadata": {},
   "outputs": [],
   "source": [
    "words = [\"apple\", \"bat\", \"bar\", \"atom\", \"book\"]"
   ]
  },
  {
   "cell_type": "code",
   "execution_count": 2,
   "metadata": {},
   "outputs": [
    {
     "data": {
      "text/plain": [
       "{5: ['apple'], 3: ['bat', 'bar'], 4: ['atom', 'book']}"
      ]
     },
     "execution_count": 2,
     "metadata": {},
     "output_type": "execute_result"
    }
   ],
   "source": [
    "by_length = {}\n",
    "\n",
    "for word in words:\n",
    "    length = len(word)\n",
    "    if length not in by_length:\n",
    "        by_length[length] = []\n",
    "    by_length[length].append(word)\n",
    "\n",
    "by_length"
   ]
  },
  {
   "cell_type": "code",
   "execution_count": 3,
   "metadata": {},
   "outputs": [
    {
     "data": {
      "text/plain": [
       "{3: ['bat', 'bar'], 4: ['atom', 'book'], 5: ['apple']}"
      ]
     },
     "execution_count": 3,
     "metadata": {},
     "output_type": "execute_result"
    }
   ],
   "source": [
    "words = { 3: [\"bat\", \"bar\"], 4: [\"atom\", \"book\"], 5: [\"apple\"]}\n",
    "words"
   ]
  },
  {
   "cell_type": "markdown",
   "metadata": {},
   "source": [
    "2. De la siguiente lista genera una función que imprima el número de valores únicos"
   ]
  },
  {
   "cell_type": "code",
   "execution_count": 6,
   "metadata": {},
   "outputs": [],
   "source": [
    "nums = [9, 9, 6, 8, 7, 6, 5, 4, 6, 8, 1, 2, 13, 4]"
   ]
  },
  {
   "cell_type": "code",
   "execution_count": 16,
   "metadata": {},
   "outputs": [
    {
     "name": "stdout",
     "output_type": "stream",
     "text": [
      "Los valores únicos son: [7, 5, 1, 2, 13]\n",
      "La cantidad de valores únicos es: 5\n"
     ]
    }
   ],
   "source": [
    "def unique_values(nums):\n",
    "    values = [num for num in nums if nums.count(num) == 1]\n",
    "    num_values = len(values)\n",
    "\n",
    "    print(f'Los valores únicos son: {values}')\n",
    "    print(f'La cantidad de valores únicos es: {num_values}')\n",
    "\n",
    "unique_values(nums)\n"
   ]
  },
  {
   "cell_type": "markdown",
   "metadata": {},
   "source": [
    "3. Escribre una función que determine si una palabra es palíndromo"
   ]
  },
  {
   "cell_type": "code",
   "execution_count": 4,
   "metadata": {},
   "outputs": [
    {
     "name": "stdout",
     "output_type": "stream",
     "text": [
      "True\n",
      "False\n"
     ]
    }
   ],
   "source": [
    "def es_palindromo(word):\n",
    "    word = word.lower()\n",
    "    return word == word[::-1]\n",
    "\n",
    "print(es_palindromo(\"Ana\")) \n",
    "print(es_palindromo(\"hola\"))"
   ]
  },
  {
   "cell_type": "markdown",
   "metadata": {},
   "source": [
    "4. Del siguiente conjunto, determina que números son divisibles entre 4"
   ]
  },
  {
   "cell_type": "code",
   "execution_count": 18,
   "metadata": {},
   "outputs": [],
   "source": [
    "s = {8, 9, 4, 16, 12, 13, 21, 64, 56, 80, 121}"
   ]
  },
  {
   "cell_type": "code",
   "execution_count": 23,
   "metadata": {},
   "outputs": [
    {
     "name": "stdout",
     "output_type": "stream",
     "text": [
      "Los números divisibles entre 4 son: {64, 4, 8, 12, 16, 80, 56}\n"
     ]
    }
   ],
   "source": [
    "def divisible(s):\n",
    "    num_divisibles = {num for num in s if num % 4 == 0}\n",
    "    return num_divisibles\n",
    "\n",
    "resultado = divisible(s)\n",
    "\n",
    "print(f'Los números divisibles entre 4 son: {resultado}')\n"
   ]
  },
  {
   "cell_type": "markdown",
   "metadata": {},
   "source": [
    "5. Genera una lista que contenga los nombres que tenga la letra \"e\" a partir de la siguiente tupla de tuplas"
   ]
  },
  {
   "cell_type": "code",
   "execution_count": 5,
   "metadata": {},
   "outputs": [],
   "source": [
    "names = ((\"John\", \"Emily\", \"Michael\", \"Mary\", \"Steven\"), (\"Maria\", \"Juan\", \"Javier\", \"Natalia\", \"Pilar\"))\n"
   ]
  },
  {
   "cell_type": "code",
   "execution_count": 6,
   "metadata": {},
   "outputs": [
    {
     "data": {
      "text/plain": [
       "[['Michael', 'Steven'], ['Javier']]"
      ]
     },
     "execution_count": 6,
     "metadata": {},
     "output_type": "execute_result"
    }
   ],
   "source": [
    "names_e = []\n",
    "\n",
    "for names in names:\n",
    "    with_e = [name for name in names if \"e\" in name]\n",
    "    names_e.append(with_e)\n",
    "\n",
    "names_e"
   ]
  },
  {
   "cell_type": "markdown",
   "metadata": {},
   "source": [
    "6. Escribe un función que reciba como entrada el radio de un círculo y regrese un diccionario con el valor de su diámetro y área"
   ]
  },
  {
   "cell_type": "code",
   "execution_count": 3,
   "metadata": {},
   "outputs": [
    {
     "name": "stdout",
     "output_type": "stream",
     "text": [
      "El diámetro del círculo es: 18.0\n",
      "El área del círculo es: 254.46900494077323\n"
     ]
    }
   ],
   "source": [
    "import math\n",
    "\n",
    "def diametro_area(radio):\n",
    "    diametro = 2 * radio\n",
    "    area = math.pi * radio ** 2\n",
    "    return {\n",
    "        \"diametro\": diametro,\n",
    "        \"area\": area\n",
    "    }\n",
    "\n",
    "resultado = diametro_area(radio)\n",
    "\n",
    "radio = float(input(\"Ingrese el radio del círculo: \"))\n",
    "\n",
    "\n",
    "\n",
    "print(f\"El diámetro del círculo es: {resultado['diametro']}\")\n",
    "print(f\"El área del círculo es: {resultado['area']}\")\n",
    "\n",
    "\n",
    "\n",
    "\n",
    "\n"
   ]
  },
  {
   "cell_type": "markdown",
   "metadata": {},
   "source": [
    "7. Genera una función que elimine e imprima el tercer elemento de una lista hasta que la lista esté vacia "
   ]
  },
  {
   "cell_type": "code",
   "execution_count": 35,
   "metadata": {},
   "outputs": [
    {
     "name": "stdout",
     "output_type": "stream",
     "text": [
      "El elemento eliminado es el siguiente: 5\n",
      "El elemento eliminado es el siguiente: 6\n",
      "El elemento eliminado es el siguiente: 9\n",
      "El elemento eliminado es el siguiente: 8\n",
      "El elemento eliminado es el siguiente: 10\n",
      "El elemento eliminado es el siguiente: 27\n",
      "El elemento eliminado es el siguiente: 30\n",
      "La lista resultante es: [2, 4]\n"
     ]
    }
   ],
   "source": [
    "def reducir_lista(lista):\n",
    "    while len(lista) >= 3:\n",
    "        eliminar_tercer_elemento = lista.pop(2)\n",
    "\n",
    "        print(f'El elemento eliminado es el siguiente: {eliminar_tercer_elemento}')\n",
    "\n",
    "lista = [2,4,5,6,9,8,10,27, 30]\n",
    "\n",
    "reducir_lista(lista)\n",
    "\n",
    "print(\"La lista resultante es:\", lista)"
   ]
  },
  {
   "cell_type": "markdown",
   "metadata": {},
   "source": [
    "8. Escribe una función que devuelva los primeros 10 elementos de la serie de fibonacci e imprima el siguiente texto: \"Generando los primeros n elementos de la serie de Fibonacci\", n siendo el parámetro de la función"
   ]
  },
  {
   "cell_type": "code",
   "execution_count": 1,
   "metadata": {},
   "outputs": [
    {
     "name": "stdout",
     "output_type": "stream",
     "text": [
      "Generando los primeros 10 elementos de la serie de Fibonacci\n",
      "[0, 1, 1, 2, 3, 5, 8, 13, 21, 34]\n"
     ]
    }
   ],
   "source": [
    "def fibonacci(n):\n",
    "    print(f\"Generando los primeros {n} elementos de la serie de Fibonacci\")\n",
    "    fibonacci = [0, 1]\n",
    "    \n",
    "    for i in range(2, n):\n",
    "        next_number = fibonacci[-1] + fibonacci[-2]\n",
    "        fibonacci.append(next_number)\n",
    "    \n",
    "    return fibonacci[:n]\n",
    "\n",
    "# Llamada a la función para generar los primeros 10 elementos\n",
    "result = fibonacci(10)\n",
    "print(result)\n"
   ]
  },
  {
   "cell_type": "markdown",
   "metadata": {},
   "source": [
    "9. Escribe un generador que obtenga la suma de los primeros 100 números naturales"
   ]
  },
  {
   "cell_type": "code",
   "execution_count": 14,
   "metadata": {},
   "outputs": [
    {
     "name": "stdout",
     "output_type": "stream",
     "text": [
      "La suma de los primeros 100 números naturales es: 5050\n"
     ]
    }
   ],
   "source": [
    "def sum(n):\n",
    "    total = 0\n",
    "    for i in range (1, n + 1):\n",
    "        total += i \n",
    "        yield total\n",
    "\n",
    "gen = sum(100)\n",
    "sum_100 = list(gen)[-1]\n",
    "\n",
    "print(f'La suma de los primeros 100 números naturales es: {sum_100}')\n",
    "\n",
    "\n",
    "\n",
    "    "
   ]
  },
  {
   "cell_type": "markdown",
   "metadata": {},
   "source": [
    "10. Usa el modulo *itertools* para contar todas la posibles manera de ordenar las vocales del abecedario"
   ]
  },
  {
   "cell_type": "code",
   "execution_count": 17,
   "metadata": {},
   "outputs": [
    {
     "name": "stdout",
     "output_type": "stream",
     "text": [
      "La cantidad de maneras de ordenar las vocales del abecedario es de : 120 maneras\n"
     ]
    }
   ],
   "source": [
    "import itertools\n",
    "\n",
    "vocales = \"aeiou\"\n",
    "permutaciones = itertools.permutations(vocales)\n",
    "num_permutaciones = len(list(permutaciones))\n",
    "\n",
    "print(f'La cantidad de maneras de ordenar las vocales del abecedario es de : {num_permutaciones} maneras')"
   ]
  }
 ],
 "metadata": {
  "kernelspec": {
   "display_name": "IntroPython",
   "language": "python",
   "name": "python3"
  },
  "language_info": {
   "codemirror_mode": {
    "name": "ipython",
    "version": 3
   },
   "file_extension": ".py",
   "mimetype": "text/x-python",
   "name": "python",
   "nbconvert_exporter": "python",
   "pygments_lexer": "ipython3",
   "version": "3.12.2"
  },
  "orig_nbformat": 4
 },
 "nbformat": 4,
 "nbformat_minor": 2
}
